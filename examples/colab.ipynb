{
  "nbformat": 4,
  "nbformat_minor": 0,
  "metadata": {
    "colab": {
      "name": "example.ipynb",
      "provenance": [],
      "collapsed_sections": [],
      "authorship_tag": "ABX9TyNUoSkTuWqnQDX4N6L5gH/n"
    },
    "kernelspec": {
      "name": "python3",
      "display_name": "Python 3"
    }
  },
  "cells": [
    {
      "cell_type": "code",
      "metadata": {
        "colab": {
          "base_uri": "https://localhost:8080/"
        },
        "id": "zpNJNiLTdMBo",
        "outputId": "83447ddd-7a1b-4113-f98a-74f31adc951c"
      },
      "source": [
        "!pip install traceback-with-variables\n",
        "from traceback_with_variables import activate_in_ipython_by_import"
      ],
      "execution_count": 1,
      "outputs": [
        {
          "output_type": "stream",
          "text": [
            "Collecting traceback-with-variables\n",
            "  Downloading https://files.pythonhosted.org/packages/7d/c7/5c9b4e94d27d6ee7473f3fb849ffc8b88c46866dd8c51a419c88b71ff7e0/traceback_with_variables-2.0.1-py3-none-any.whl\n",
            "Installing collected packages: traceback-with-variables\n",
            "Successfully installed traceback-with-variables-2.0.1\n"
          ],
          "name": "stdout"
        }
      ]
    },
    {
      "cell_type": "code",
      "metadata": {
        "id": "FWvBXawKdsr6"
      },
      "source": [
        "def f(n):\n",
        "  k = max(0, n - 10)\n",
        "  if k == 0:\n",
        "    return 1 / k\n",
        "  return 1 / f(k)"
      ],
      "execution_count": 2,
      "outputs": []
    },
    {
      "cell_type": "code",
      "metadata": {
        "colab": {
          "base_uri": "https://localhost:8080/"
        },
        "id": "7FNzh_1-eEWD",
        "outputId": "2ec0d5a0-aed3-4e0d-8775-df56aae63d5f"
      },
      "source": [
        "a = 20\n",
        "c = f(a)"
      ],
      "execution_count": 3,
      "outputs": [
        {
          "output_type": "stream",
          "text": [
            "\u001b[36mTraceback with variables (most recent call last):\u001b[0m\n",
            "\u001b[36m  File \"\u001b[0m\u001b[36;1m<ipython-input-3-d3a996ba39f5>\u001b[0m\u001b[36m\", line \u001b[0m\u001b[36;1m2\u001b[0m\u001b[36m, in \u001b[0m\u001b[36;1m<module>\u001b[0m\n",
            "\u001b[36m    \u001b[0m\u001b[35mc = f(a)\u001b[0m\n",
            "\u001b[36m      \u001b[0m\u001b[32;1mactivate_in_ipython_by_import\u001b[0m\u001b[36m = \u001b[0m<module 'traceback_with_variables.activate_in_ipython_by_import' from '/usr/local/lib/python3.6/dist-packages/traceback_with_variables/activate_in_ipython_by_import.py'>\u001b[0m\n",
            "\u001b[36m      \u001b[0m\u001b[32;1mf\u001b[0m\u001b[36m = \u001b[0m<function f at 0x7fa5135887b8>\u001b[0m\n",
            "\u001b[36m      \u001b[0m\u001b[32;1ma\u001b[0m\u001b[36m = \u001b[0m20\u001b[0m\n",
            "\u001b[36m      \u001b[0m\u001b[32;1m...skipped...\u001b[0m\u001b[36m \u001b[0m26\u001b[0m\u001b[36m vars\u001b[0m\n",
            "\u001b[36m  File \"\u001b[0m\u001b[36;1m<ipython-input-2-702aa3aab395>\u001b[0m\u001b[36m\", line \u001b[0m\u001b[36;1m5\u001b[0m\u001b[36m, in \u001b[0m\u001b[36;1mf\u001b[0m\n",
            "\u001b[36m    \u001b[0m\u001b[35mreturn 1 / f(k)\u001b[0m\n",
            "\u001b[36m      \u001b[0m\u001b[32;1mk\u001b[0m\u001b[36m = \u001b[0m10\u001b[0m\n",
            "\u001b[36m      \u001b[0m\u001b[32;1mn\u001b[0m\u001b[36m = \u001b[0m20\u001b[0m\n",
            "\u001b[36m  File \"\u001b[0m\u001b[36;1m<ipython-input-2-702aa3aab395>\u001b[0m\u001b[36m\", line \u001b[0m\u001b[36;1m4\u001b[0m\u001b[36m, in \u001b[0m\u001b[36;1mf\u001b[0m\n",
            "\u001b[36m    \u001b[0m\u001b[35mreturn 1 / k\u001b[0m\n",
            "\u001b[36m      \u001b[0m\u001b[32;1mk\u001b[0m\u001b[36m = \u001b[0m0\u001b[0m\n",
            "\u001b[36m      \u001b[0m\u001b[32;1mn\u001b[0m\u001b[36m = \u001b[0m10\u001b[0m\n",
            "\u001b[31mbuiltins.ZeroDivisionError:\u001b[0m\u001b[91m division by zero\u001b[0m\n"
          ],
          "name": "stderr"
        }
      ]
    },
    {
      "cell_type": "code",
      "metadata": {
        "id": "L0w8TSd3eLRz"
      },
      "source": [
        ""
      ],
      "execution_count": null,
      "outputs": []
    }
  ]
}