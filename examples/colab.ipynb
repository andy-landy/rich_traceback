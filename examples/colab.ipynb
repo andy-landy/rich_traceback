{
  "nbformat": 4,
  "nbformat_minor": 0,
  "metadata": {
    "colab": {
      "name": "example.ipynb",
      "provenance": [],
      "collapsed_sections": [],
      "authorship_tag": "ABX9TyNUoSkTuWqnQDX4N6L5gH/n"
    },
    "kernelspec": {
      "name": "python3",
      "display_name": "Python 3"
    }
  },
  "cells": [
    {
      "cell_type": "code",
      "metadata": {
        "colab": {
          "base_uri": "https://localhost:8080/"
        },
        "id": "zpNJNiLTdMBo",
        "outputId": "60e76626-a151-47d4-afa6-a9c64d1f85e6"
      },
      "source": [
        "!pip install traceback-with-variables\n",
        "from traceback_with_variables import activate_in_ipython_by_import"
      ],
      "execution_count": 1,
      "outputs": [
        {
          "output_type": "stream",
          "text": [
            "Collecting traceback-with-variables\n",
            "  Downloading https://files.pythonhosted.org/packages/7d/8b/96ce5a32d11dda98514c0ab2fba83ee567c44c73d5c7cc6f3fc0eba859d1/traceback_with_variables-1.1.9-py3-none-any.whl\n",
            "Installing collected packages: traceback-with-variables\n",
            "Successfully installed traceback-with-variables-1.1.9\n"
          ],
          "name": "stdout"
        }
      ]
    },
    {
      "cell_type": "code",
      "metadata": {
        "id": "FWvBXawKdsr6"
      },
      "source": [
        "def f(n):\n",
        "  k = max(0, n - 10)\n",
        "  if k == 0:\n",
        "    return 1 / k\n",
        "  return 1 / f(k)"
      ],
      "execution_count": 10,
      "outputs": []
    },
    {
      "cell_type": "code",
      "metadata": {
        "colab": {
          "base_uri": "https://localhost:8080/"
        },
        "id": "7FNzh_1-eEWD",
        "outputId": "bcf96e87-e0d1-45f0-808c-e8da4bc12877"
      },
      "source": [
        "a = 20\n",
        "c = f(a)"
      ],
      "execution_count": 11,
      "outputs": [
        {
          "output_type": "stream",
          "text": [
            "\u001b[36mTraceback with variables (most recent call last):\u001b[0m\n",
            "\u001b[36m  File \"\u001b[0m\u001b[36;1m<ipython-input-11-d3a996ba39f5>\u001b[0m\u001b[36m\", line \u001b[0m\u001b[36;1m2\u001b[0m\u001b[36m, in \u001b[0m\u001b[36;1m<module>\u001b[0m\n",
            "\u001b[36m    \u001b[0m\u001b[35mc = f(a)\u001b[0m\n",
            "\u001b[36m      \u001b[0m\u001b[32;1m__name__\u001b[0m\u001b[36m = \u001b[0m'__main__'\u001b[0m\n",
            "\u001b[36m      \u001b[0m\u001b[32;1m__doc__\u001b[0m\u001b[36m = \u001b[0m'Automatically created module for IPython interactive environment'\u001b[0m\n",
            "\u001b[36m      \u001b[0m\u001b[32;1m__package__\u001b[0m\u001b[36m = \u001b[0mNone\u001b[0m\n",
            "\u001b[36m      \u001b[0m\u001b[32;1m__loader__\u001b[0m\u001b[36m = \u001b[0mNone\u001b[0m\n",
            "\u001b[36m      \u001b[0m\u001b[32;1m__spec__\u001b[0m\u001b[36m = \u001b[0mNone\u001b[0m\n",
            "\u001b[36m      \u001b[0m\u001b[32;1m__builtin__\u001b[0m\u001b[36m = \u001b[0m<module 'builtins' (built-in)>\u001b[0m\n",
            "\u001b[36m      \u001b[0m\u001b[32;1m__builtins__\u001b[0m\u001b[36m = \u001b[0m<module 'builtins' (built-in)>\u001b[0m\n",
            "\u001b[36m      \u001b[0m\u001b[32;1m_ih\u001b[0m\u001b[36m = \u001b[0m['', \"get_ipython().system('pip install traceback-with-variables')\\nfrom traceback_with_variables import activate_in_ipython_by_import\", 'def f(n):\\n  k = max(0, n - 10)\\n  if k > 100:\\n    return 1 / f(100)\\n    \\n  return 1 / f(k)', 'a = 20\\nb = a + 10\\nc = f(b)\\nd = c + c', 'def f(n):\\n  k = max(0, n - 10)\\n  if k == 0:\\n    return 1 / k\\n\\n  return 1 / f(k)', 'a = 20\\nb = a + 10\\nc = f(b)\\nd = c + c', 'def f(n):\\n  k = max(0, n - 10)\\n  return 1 / k', 'a = 20\\nc = f(a)', 'def f(n):\\n  k = max(0, n - 10)\\n  return 1 / k', 'a = 20\\nc = f(a)', 'def f(n):\\n  k = max(0, n - 10)\\n  if k == 0:\\n    return 1 / k\\n  return 1 / f(k)', 'a = 20\\nc = f(a)']\u001b[0m\n",
            "\u001b[36m      \u001b[0m\u001b[32;1m_oh\u001b[0m\u001b[36m = \u001b[0m{}\u001b[0m\n",
            "\u001b[36m      \u001b[0m\u001b[32;1m_dh\u001b[0m\u001b[36m = \u001b[0m['/content']\u001b[0m\n",
            "\u001b[36m      \u001b[0m\u001b[32;1m_sh\u001b[0m\u001b[36m = \u001b[0m<module 'IPython.core.shadowns' from '/usr/local/lib/python3.6/dist-packages/IPython/core/shadowns.py'>\u001b[0m\n",
            "\u001b[36m      \u001b[0m\u001b[32;1mIn\u001b[0m\u001b[36m = \u001b[0m['', \"get_ipython().system('pip install traceback-with-variables')\\nfrom traceback_with_variables import activate_in_ipython_by_import\", 'def f(n):\\n  k = max(0, n - 10)\\n  if k > 100:\\n    return 1 / f(100)\\n    \\n  return 1 / f(k)', 'a = 20\\nb = a + 10\\nc = f(b)\\nd = c + c', 'def f(n):\\n  k = max(0, n - 10)\\n  if k == 0:\\n    return 1 / k\\n\\n  return 1 / f(k)', 'a = 20\\nb = a + 10\\nc = f(b)\\nd = c + c', 'def f(n):\\n  k = max(0, n - 10)\\n  return 1 / k', 'a = 20\\nc = f(a)', 'def f(n):\\n  k = max(0, n - 10)\\n  return 1 / k', 'a = 20\\nc = f(a)', 'def f(n):\\n  k = max(0, n - 10)\\n  if k == 0:\\n    return 1 / k\\n  return 1 / f(k)', 'a = 20\\nc = f(a)']\u001b[0m\n",
            "\u001b[36m      \u001b[0m\u001b[32;1mOut\u001b[0m\u001b[36m = \u001b[0m{}\u001b[0m\n",
            "\u001b[36m      \u001b[0m\u001b[32;1mget_ipython\u001b[0m\u001b[36m = \u001b[0m<bound method InteractiveShell.get_ipython of <google.colab._shell.Shell object at 0x7ff3f0113780>>\u001b[0m\n",
            "\u001b[36m      \u001b[0m\u001b[32;1mexit\u001b[0m\u001b[36m = \u001b[0m<IPython.core.autocall.ZMQExitAutocall object at 0x7ff3ed65e630>\u001b[0m\n",
            "\u001b[36m      \u001b[0m\u001b[32;1mquit\u001b[0m\u001b[36m = \u001b[0m<IPython.core.autocall.ZMQExitAutocall object at 0x7ff3ed65e630>\u001b[0m\n",
            "\u001b[36m      \u001b[0m\u001b[32;1m_\u001b[0m\u001b[36m = \u001b[0m''\u001b[0m\n",
            "\u001b[36m      \u001b[0m\u001b[32;1m__\u001b[0m\u001b[36m = \u001b[0m''\u001b[0m\n",
            "\u001b[36m      \u001b[0m\u001b[32;1m___\u001b[0m\u001b[36m = \u001b[0m''\u001b[0m\n",
            "\u001b[36m      \u001b[0m\u001b[32;1m_i\u001b[0m\u001b[36m = \u001b[0m'def f(n):\\n  k = max(0, n - 10)\\n  if k == 0:\\n    return 1 / k\\n  return 1 / f(k)'\u001b[0m\n",
            "\u001b[36m      \u001b[0m\u001b[32;1m_ii\u001b[0m\u001b[36m = \u001b[0m'a = 20\\nc = f(a)'\u001b[0m\n",
            "\u001b[36m      \u001b[0m\u001b[32;1m_iii\u001b[0m\u001b[36m = \u001b[0m'def f(n):\\n  k = max(0, n - 10)\\n  return 1 / k'\u001b[0m\n",
            "\u001b[36m      \u001b[0m\u001b[32;1m_i1\u001b[0m\u001b[36m = \u001b[0m'!pip install traceback-with-variables\\nfrom traceback_with_variables import activate_in_ipython_by_import'\u001b[0m\n",
            "\u001b[36m      \u001b[0m\u001b[32;1m_exit_code\u001b[0m\u001b[36m = \u001b[0m0\u001b[0m\n",
            "\u001b[36m      \u001b[0m\u001b[32;1mactivate_in_ipython_by_import\u001b[0m\u001b[36m = \u001b[0m<module 'traceback_with_variables.activate_in_ipython_by_import' from '/usr/local/lib/python3.6/dist-packages/traceback_with_variables/activate_in_ipython_by_import.py'>\u001b[0m\n",
            "\u001b[36m      \u001b[0m\u001b[32;1m_i2\u001b[0m\u001b[36m = \u001b[0m'def f(n):\\n  k = max(0, n - 10)\\n  if k > 100:\\n    return 1 / f(100)\\n    \\n  return 1 / f(k)'\u001b[0m\n",
            "\u001b[36m      \u001b[0m\u001b[32;1mf\u001b[0m\u001b[36m = \u001b[0m<function f at 0x7ff3e25072f0>\u001b[0m\n",
            "\u001b[36m      \u001b[0m\u001b[32;1m_i3\u001b[0m\u001b[36m = \u001b[0m'a = 20\\nb = a + 10\\nc = f(b)\\nd = c + c'\u001b[0m\n",
            "\u001b[36m      \u001b[0m\u001b[32;1ma\u001b[0m\u001b[36m = \u001b[0m20\u001b[0m\n",
            "\u001b[36m      \u001b[0m\u001b[32;1mb\u001b[0m\u001b[36m = \u001b[0m30\u001b[0m\n",
            "\u001b[36m      \u001b[0m\u001b[32;1m_i4\u001b[0m\u001b[36m = \u001b[0m'def f(n):\\n  k = max(0, n - 10)\\n  if k == 0:\\n    return 1 / k\\n\\n  return 1 / f(k)'\u001b[0m\n",
            "\u001b[36m      \u001b[0m\u001b[32;1m_i5\u001b[0m\u001b[36m = \u001b[0m'a = 20\\nb = a + 10\\nc = f(b)\\nd = c + c'\u001b[0m\n",
            "\u001b[36m      \u001b[0m\u001b[32;1m_i6\u001b[0m\u001b[36m = \u001b[0m'def f(n):\\n  k = max(0, n - 10)\\n  return 1 / k'\u001b[0m\n",
            "\u001b[36m      \u001b[0m\u001b[32;1m_i7\u001b[0m\u001b[36m = \u001b[0m'a = 20\\nc = f(a)'\u001b[0m\n",
            "\u001b[36m      \u001b[0m\u001b[32;1mc\u001b[0m\u001b[36m = \u001b[0m0.1\u001b[0m\n",
            "\u001b[36m      \u001b[0m\u001b[32;1m_i8\u001b[0m\u001b[36m = \u001b[0m'def f(n):\\n  k = max(0, n - 10)\\n  return 1 / k'\u001b[0m\n",
            "\u001b[36m      \u001b[0m\u001b[32;1m_i9\u001b[0m\u001b[36m = \u001b[0m'a = 20\\nc = f(a)'\u001b[0m\n",
            "\u001b[36m      \u001b[0m\u001b[32;1m_i10\u001b[0m\u001b[36m = \u001b[0m'def f(n):\\n  k = max(0, n - 10)\\n  if k == 0:\\n    return 1 / k\\n  return 1 / f(k)'\u001b[0m\n",
            "\u001b[36m      \u001b[0m\u001b[32;1m_i11\u001b[0m\u001b[36m = \u001b[0m'a = 20\\nc = f(a)'\u001b[0m\n",
            "\u001b[36m  File \"\u001b[0m\u001b[36;1m<ipython-input-10-702aa3aab395>\u001b[0m\u001b[36m\", line \u001b[0m\u001b[36;1m5\u001b[0m\u001b[36m, in \u001b[0m\u001b[36;1mf\u001b[0m\n",
            "\u001b[36m    \u001b[0m\u001b[35mreturn 1 / f(k)\u001b[0m\n",
            "\u001b[36m      \u001b[0m\u001b[32;1mk\u001b[0m\u001b[36m = \u001b[0m10\u001b[0m\n",
            "\u001b[36m      \u001b[0m\u001b[32;1mn\u001b[0m\u001b[36m = \u001b[0m20\u001b[0m\n",
            "\u001b[36m  File \"\u001b[0m\u001b[36;1m<ipython-input-10-702aa3aab395>\u001b[0m\u001b[36m\", line \u001b[0m\u001b[36;1m4\u001b[0m\u001b[36m, in \u001b[0m\u001b[36;1mf\u001b[0m\n",
            "\u001b[36m    \u001b[0m\u001b[35mreturn 1 / k\u001b[0m\n",
            "\u001b[36m      \u001b[0m\u001b[32;1mk\u001b[0m\u001b[36m = \u001b[0m0\u001b[0m\n",
            "\u001b[36m      \u001b[0m\u001b[32;1mn\u001b[0m\u001b[36m = \u001b[0m10\u001b[0m\n",
            "\u001b[31mbuiltins.ZeroDivisionError:\u001b[0m\u001b[91m division by zero\u001b[0m\n"
          ],
          "name": "stderr"
        }
      ]
    },
    {
      "cell_type": "code",
      "metadata": {
        "id": "L0w8TSd3eLRz"
      },
      "source": [
        ""
      ],
      "execution_count": null,
      "outputs": []
    }
  ]
}